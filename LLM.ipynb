{
 "cells": [
  {
   "cell_type": "code",
   "execution_count": 1,
   "metadata": {},
   "outputs": [
    {
     "name": "stderr",
     "output_type": "stream",
     "text": [
      "C:\\Users\\atula\\AppData\\Local\\Packages\\PythonSoftwareFoundation.Python.3.11_qbz5n2kfra8p0\\LocalCache\\local-packages\\Python311\\site-packages\\langchain_core\\_api\\deprecation.py:117: LangChainDeprecationWarning: The function `__call__` was deprecated in LangChain 0.1.7 and will be removed in 0.2.0. Use invoke instead.\n",
      "  warn_deprecated(\n"
     ]
    },
    {
     "name": "stdout",
     "output_type": "stream",
     "text": [
      "Hi there! Thanks for sharing your condition with me. I see that your hemoglobin level is on the lower side. This can be a cause for concern, as hemoglobin is responsible for carrying oxygen throughout the body.\n",
      "\n",
      "There are several potential causes for low hemoglobin levels, including iron deficiency, anemia, and chronic diseases like kidney disease or cancer. It's important to consult with your doctor to determine the underlying cause of your low hemoglobin level.\n",
      "\n",
      "In the meantime, here are some general self-care measures that may help:\n",
      "\n",
      "1. Eat iron-rich foods: Foods high in iron include red meat, poultry, fish, beans, lentils, and fortified cereals. Vitamin C can help your body absorb iron, so consider consuming foods high in vitamin C (such as citrus fruits, strawberries, and bell peppers) along with iron-rich foods.\n",
      "2. Address underlying conditions: If your low hemoglobin level is caused by an underlying condition like kidney disease or cancer, it's important to work with your doctor to manage that condition.\n",
      "3. Avoid smoking and excessive alcohol consumption: Both of these can increase your risk of developing anemia.\n",
      "4. Get enough sleep: Lack of sleep can affect your body's ability to produce red blood cells, including hemoglobin. Aim for 7-8 hours of sleep per night.\n",
      "5. Stay physically active: Regular exercise can help improve your overall health and reduce your risk of developing anemia.\n",
      "\n",
      "It's important to note that I cannot provide a definitive diagnosis or recommend specific treatments without consulting with a qualified healthcare professional. Please consult with your doctor for personalized advice and treatment.\n"
     ]
    }
   ],
   "source": [
    "from langchain.llms import Ollama\n",
    "ollama = Ollama (base_url='http://localhost:11434',\n",
    "model=\"a-squared\")\n",
    "print(ollama (\"I have low hemoglobin level\"))"
   ]
  },
  {
   "cell_type": "code",
   "execution_count": null,
   "metadata": {},
   "outputs": [],
   "source": []
  }
 ],
 "metadata": {
  "kernelspec": {
   "display_name": "Python 3",
   "language": "python",
   "name": "python3"
  },
  "language_info": {
   "codemirror_mode": {
    "name": "ipython",
    "version": 3
   },
   "file_extension": ".py",
   "mimetype": "text/x-python",
   "name": "python",
   "nbconvert_exporter": "python",
   "pygments_lexer": "ipython3",
   "version": "3.11.8"
  }
 },
 "nbformat": 4,
 "nbformat_minor": 2
}
